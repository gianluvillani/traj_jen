{
 "cells": [
  {
   "cell_type": "code",
   "execution_count": 1,
   "metadata": {
    "collapsed": true
   },
   "outputs": [],
   "source": [
    "import numpy as np\n",
    "import matplotlib.pyplot as plt\n",
    "from scipy.interpolate import splev, splrep\n",
    "import quintic_polynomials_planner as qp\n",
    "import math\n",
    "from pycubicspline import * \n",
    "import pure_pursuit\n",
    "from matplotlib import animation"
   ]
  },
  {
   "cell_type": "code",
   "execution_count": 2,
   "metadata": {
    "collapsed": true
   },
   "outputs": [],
   "source": [
    "class car:\n",
    "    def __init__(self, x, y, v, a, yaw, dotlist, dist_goal):\n",
    "        self.carstate = dots(x, y, v, a, yaw)\n",
    "        self.traj = trajectory(dotlist, dist_goal)\n",
    "        self.traj.update_start(self.carstate)\n",
    "        self.traj.gen_trajectory()\n",
    "    \n",
    "    def move_car(self, x, y, v, yaw, new_points):\n",
    "        self.update_state(x, y, v, yaw):\n",
    "        self.traj.update_start(self.carstate) # updated only when the car is close enough to the closest waypoint\n",
    "        if new_points:\n",
    "            self.traj.gen_trajectory() # recompute the trajectory to the actual state\n",
    "    \n",
    "    \n",
    "    def reached_goal():\n",
    "        return traj.reached_final_goal()\n",
    "    \n",
    "    def add_goal(next_goal):\n",
    "        self.trajectory.update_goal(next_goal)\n",
    "\n",
    "class dots:\n",
    "    def __init__(self, x, y, v, yaw, a =0):\n",
    "        self.x = x\n",
    "        self.y = y\n",
    "        self.yaw = yaw\n",
    "        self.v = v\n",
    "        #self.a = a\n",
    "        self.vx = v*math.cos(yaw)\n",
    "        self.vy = v*math.sin(yaw)\n",
    "        #self.ax = a*math.cos(yaw)\n",
    "        #self.ay = a*math.sin(yaw)\n",
    "        \n",
    "        \n",
    "    def update_state(self,x, y, v, a, yaw):\n",
    "        \"\"\"\n",
    "        Update coordinates for the car\n",
    "        \"\"\"\n",
    "        self.x=x\n",
    "        self.y=y\n",
    "        self.yaw = yaw\n",
    "        self.v = v\n",
    "        self.a = a\n",
    "        self.vx = v*math.cos(yaw)\n",
    "        self.vy = v*math.sin(yaw)\n",
    "        self.ax = a*math.cos(yaw)\n",
    "        self.ay = a*math.sin(yaw)\n",
    "        \n",
    "        \n",
    "        \n",
    "        \n",
    "class trajectory:\n",
    "    def __init__(self, dotlist, close_dist):\n",
    "            self.dotlist=dotlist #Dots to be trajectorized\n",
    "            self.dist = close_dist #Maximum distance\n",
    "                                   # between the car state and the closest waypoint \n",
    "    \n",
    "    def update_goal(self, dot_goal):\n",
    "        \"\"\"\n",
    "        Called each time a new goal point is added\n",
    "        \"\"\"\n",
    "        self.dotlist.append(dot_goal)   \n",
    "    def close_enough(self, car_state, curr_dot ):\n",
    "        \"\"\"\n",
    "        Check if car has passed a dot in the trajectory\n",
    "        \"\"\"\n",
    "        dist = math.sqrt((curr_dot.x-car_state.x)**2+(curr_dot.y-car_state.y)**2)\n",
    "        return dist < self.dist\n",
    "    \n",
    "    def update_start(self, car_state):\n",
    "        if self.close_enough(car_state, self.dotlist[1]):\n",
    "            del self.dotlist[1]\n",
    "            return True\n",
    "        self.dotlist[0] = car_state\n",
    "        return False    \n",
    "    def gen_trajectory(self):\n",
    "        \"\"\"\n",
    "        Trajectory generator\n",
    "        \"\"\"\n",
    "        # do stuff here\n",
    "        #x_trajectory = linspace(self.start, self.) \n",
    "        dt = 0.01\n",
    "        max_accel = 10\n",
    "        self.x_ref = []\n",
    "        self.y_ref = []\n",
    "        self.v_ref = []\n",
    "        self.a_ref = []\n",
    "        self.yaw_ref = []\n",
    "        mode = 1\n",
    "        if mode == 0:\n",
    "            for i in range(len(self.dotlist)-1):\n",
    "\n",
    "\n",
    "                curr_dot = self.dotlist[i]\n",
    "\n",
    "                goal_dot = self.dotlist[i+1]  \n",
    "                print(goal_dot.x)\n",
    "                # Get the point coordinate, the first one is the car position\n",
    "\n",
    "                [time,rx,ry,ryaw,rv,ra] = qp.quinic_polynomials_planner(sx=curr_dot.x, sy=curr_dot.y, sv=curr_dot.v,\n",
    "                                                                        syaw=curr_dot.yaw, sa=curr_dot.a, gx=goal_dot.x,\n",
    "                                                                        gy = goal_dot.y, gv = goal_dot.v, ga = goal_dot.a,\n",
    "                                                                       gyaw = goal_dot.yaw, dt = dt, max_accel = max_accel)\n",
    "\n",
    "\n",
    "                self.x_ref.extend(rx)\n",
    "                self.y_ref.extend(ry)\n",
    "                self.v_ref.extend(rv)\n",
    "                self.a_ref.extend(ra)\n",
    "                self.yaw_ref.extend(ryaw)\n",
    "        if mode == 1:\n",
    "            x = []\n",
    "            y = []\n",
    "            \n",
    "            \n",
    "            for i in range(len(self.dotlist)):\n",
    "                x.append(self.dotlist[i].x)\n",
    "                y.append(self.dotlist[i].y)\n",
    "            \n",
    "            sp = Spline2D(x, y)\n",
    "            s = np.arange(0, sp.s[-1], 0.1)\n",
    "            rx, ry, ryaw, rk = [], [], [], []\n",
    "            for i_s in s:\n",
    "                ix, iy = sp.calc_position(i_s)\n",
    "                rx.append(ix)\n",
    "                ry.append(iy)\n",
    "                ryaw.append(sp.calc_yaw(i_s))\n",
    "                rk.append(sp.calc_curvature(i_s))\n",
    "            \n",
    "            self.x_ref = rx\n",
    "            self.y_ref = ry\n",
    "            self.yaw_ref = ryaw\n",
    "            \n",
    "            \n",
    "            \n",
    "            \n",
    "    def get_next_traj(self):\n",
    "        return dots(x_vec[0], y_vec[0], 0)\n",
    "    \n",
    "    def reached_final_goal(self):\n",
    "        return close_enough(dotlist[0], dotlist[-1])\n",
    "        \n",
    "    def return_goal(self):\n",
    "        return self.dotlist[-1]\n",
    "        \n",
    "\n",
    "        "
   ]
  },
  {
   "cell_type": "code",
   "execution_count": 3,
   "metadata": {},
   "outputs": [
    {
     "data": {
      "text/plain": [
       "0.7853981633974483"
      ]
     },
     "execution_count": 3,
     "metadata": {},
     "output_type": "execute_result"
    }
   ],
   "source": [
    "\n",
    "math.pi/4\n"
   ]
  },
  {
   "cell_type": "code",
   "execution_count": 5,
   "metadata": {},
   "outputs": [
    {
     "data": {
      "image/png": "[encoded data removed]",
      "text/plain": [
       "<matplotlib.figure.Figure at 0x7fd4958e0a20>"
      ]
     },
     "metadata": {},
     "output_type": "display_data"
    },
    {
     "name": "stdout",
     "output_type": "stream",
     "text": [
      "0.7853981633974483\n"
     ]
    },
    {
     "data": {
      "image/png": "[encoded data removed]",
      "text/plain": [
       "<matplotlib.figure.Figure at 0x7fd49456e710>"
      ]
     },
     "metadata": {},
     "output_type": "display_data"
    },
    {
     "ename": "TypeError",
     "evalue": "pure_pursuit_sim() missing 2 required positional arguments: 'cx' and 'cy'",
     "output_type": "error",
     "traceback": [
      "\u001b[0;31m---------------------------------------------------------------------------\u001b[0m",
      "\u001b[0;31mTypeError\u001b[0m                                 Traceback (most recent call last)",
      "\u001b[0;32m<ipython-input-5-a41541623dd1>\u001b[0m in \u001b[0;36m<module>\u001b[0;34m()\u001b[0m\n\u001b[1;32m     20\u001b[0m \u001b[0;34m\u001b[0m\u001b[0m\n\u001b[1;32m     21\u001b[0m \u001b[0;34m\u001b[0m\u001b[0m\n\u001b[0;32m---> 22\u001b[0;31m \u001b[0mpure_pursuit\u001b[0m\u001b[0;34m.\u001b[0m\u001b[0mpure_pursuit_sim\u001b[0m\u001b[0;34m(\u001b[0m\u001b[0mx_0\u001b[0m\u001b[0;34m=\u001b[0m\u001b[0;36m0\u001b[0m\u001b[0;34m,\u001b[0m \u001b[0my_0\u001b[0m\u001b[0;34m=\u001b[0m\u001b[0;36m0\u001b[0m\u001b[0;34m,\u001b[0m \u001b[0myaw_0\u001b[0m\u001b[0;34m=\u001b[0m\u001b[0;36m0\u001b[0m\u001b[0;34m,\u001b[0m \u001b[0mv_0\u001b[0m\u001b[0;34m=\u001b[0m\u001b[0;36m0\u001b[0m\u001b[0;34m)\u001b[0m\u001b[0;34m\u001b[0m\u001b[0m\n\u001b[0m",
      "\u001b[0;31mTypeError\u001b[0m: pure_pursuit_sim() missing 2 required positional arguments: 'cx' and 'cy'"
     ]
    }
   ],
   "source": [
    "point_1 = dots(x=0, y=0, v=0.1, a=0.0, yaw=math.pi/4)\n",
    "point_2 = dots(x=0.5, y=0.7, v=0.1, a=0.2, yaw = 0.8*math.pi/4)\n",
    "point_3 = dots(x = 2.3, y=0.8, v=0.1, a=0.2, yaw = -0.8*math.pi/4)\n",
    "point_4 = dots(x=3, y=0, v=0.1, a=0.2, yaw = -math.pi/4)\n",
    "waypoints = [point_1, point_2, point_3, point_4]\n",
    "car_1 = car(x=0, y=0, v=0, a=0,yaw=math.pi/4, dist_goal=0.1, dotlist=waypoints)\n",
    "traj = car_1.traj\n",
    "x = traj.x_ref\n",
    "y = traj.y_ref\n",
    "#print(x)\n",
    "\n",
    "plt.plot(x,y)\n",
    "plt.plot(0, 0, 'bo' )\n",
    "plt.plot(1,1, 'ro')\n",
    "plt.show()\n",
    "print(point_1.yaw)\n",
    "plt.plot(traj.yaw_ref)\n",
    "plt.plot(y)\n",
    "plt.show()\n",
    "\n",
    "\n",
    "pure_pursuit.pure_pursuit_sim(x_0=0, y_0=0, yaw_0=0, v_0=0)"
   ]
  },
  {
   "cell_type": "code",
   "execution_count": null,
   "metadata": {},
   "outputs": [],
   "source": []
  },
  {
   "cell_type": "code",
   "execution_count": null,
   "metadata": {
    "collapsed": true
   },
   "outputs": [],
   "source": []
  }
 ],
 "metadata": {
  "kernelspec": {
   "display_name": "Python 3",
   "language": "python",
   "name": "python3"
  },
  "language_info": {
   "codemirror_mode": {
    "name": "ipython",
    "version": 3
   },
   "file_extension": ".py",
   "mimetype": "text/x-python",
   "name": "python",
   "nbconvert_exporter": "python",
   "pygments_lexer": "ipython3",
   "version": "3.6.4"
  }
 },
 "nbformat": 4,
 "nbformat_minor": 2
}
